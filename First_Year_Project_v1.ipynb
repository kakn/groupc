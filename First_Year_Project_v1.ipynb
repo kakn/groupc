{
  "nbformat": 4,
  "nbformat_minor": 0,
  "metadata": {
    "colab": {
      "name": "First Year Project v1.ipynb",
      "provenance": [],
      "collapsed_sections": [],
      "toc_visible": true,
      "machine_shape": "hm",
      "include_colab_link": true
    },
    "kernelspec": {
      "name": "python3",
      "display_name": "Python 3"
    },
    "accelerator": "GPU"
  },
  "cells": [
    {
      "cell_type": "markdown",
      "metadata": {
        "id": "view-in-github",
        "colab_type": "text"
      },
      "source": [
        "<a href=\"https://colab.research.google.com/github/kakn/groupc/blob/master/First_Year_Project_v1.ipynb\" target=\"_parent\"><img src=\"https://colab.research.google.com/assets/colab-badge.svg\" alt=\"Open In Colab\"/></a>"
      ]
    },
    {
      "cell_type": "markdown",
      "metadata": {
        "id": "BdPteRVoa5S3",
        "colab_type": "text"
      },
      "source": [
        "# Taking care of prerequisite\n",
        "\n",
        "Installing and importing libraries"
      ]
    },
    {
      "cell_type": "code",
      "metadata": {
        "id": "hJbzI3UxJ9dZ",
        "colab_type": "code",
        "outputId": "faa9372e-66f3-4e1f-c2ba-a12db850c031",
        "colab": {
          "base_uri": "https://localhost:8080/",
          "height": 168
        }
      },
      "source": [
        "# Installing necessities\n",
        "\n",
        "!pip install langid\n",
        "\n",
        "# This should make sure v3.4 or higher of NLTK is installed\n",
        "!pip install --user -U nltk\n",
        "\n",
        "import nltk\n",
        "nltk.download('punkt')\n",
        "nltk.download('stopwords')"
      ],
      "execution_count": 0,
      "outputs": [
        {
          "output_type": "stream",
          "text": [
            "Requirement already satisfied: langid in /usr/local/lib/python3.6/dist-packages (1.1.6)\n",
            "Requirement already satisfied: numpy in /usr/local/lib/python3.6/dist-packages (from langid) (1.17.5)\n",
            "Requirement already up-to-date: nltk in /root/.local/lib/python3.6/site-packages (3.4.5)\n",
            "Requirement already satisfied, skipping upgrade: six in /usr/local/lib/python3.6/dist-packages (from nltk) (1.12.0)\n"
          ],
          "name": "stdout"
        },
        {
          "output_type": "stream",
          "text": [
            "[nltk_data] Downloading package punkt to /root/nltk_data...\n",
            "[nltk_data]   Package punkt is already up-to-date!\n",
            "[nltk_data] Downloading package stopwords to /root/nltk_data...\n",
            "[nltk_data]   Package stopwords is already up-to-date!\n"
          ],
          "name": "stderr"
        },
        {
          "output_type": "execute_result",
          "data": {
            "text/plain": [
              "True"
            ]
          },
          "metadata": {
            "tags": []
          },
          "execution_count": 1
        }
      ]
    },
    {
      "cell_type": "code",
      "metadata": {
        "id": "OynDSj00Ju2r",
        "colab_type": "code",
        "colab": {}
      },
      "source": [
        "# Importing libraries\n",
        "\n",
        "import csv\n",
        "import re\n",
        "import langid\n",
        "import random\n",
        "import random\n",
        "import numpy as np\n",
        "from langid.langid import LanguageIdentifier, model\n",
        "from nltk.tokenize import sent_tokenize, word_tokenize\n",
        "from nltk.stem import PorterStemmer \n",
        "from nltk.stem import LancasterStemmer\n",
        "from nltk.corpus import stopwords \n",
        "from nltk import FreqDist\n",
        "from nltk import ngrams\n",
        "import matplotlib.pyplot as plt\n",
        "import collections\n",
        "import pandas as pd\n",
        "import seaborn as sn\n",
        "porter=PorterStemmer()"
      ],
      "execution_count": 0,
      "outputs": []
    },
    {
      "cell_type": "markdown",
      "metadata": {
        "id": "sxmagvIkSSTJ",
        "colab_type": "text"
      },
      "source": [
        "# Reading the original file into a sample file\n",
        "\n",
        "We keep ~10% our original file and output it to a sample file\n",
        "\n",
        "**Note: This code shouldn't be run here because the original file takes too long to process in Colab. Instead, run all the next codes using the sample.csv file**"
      ]
    },
    {
      "cell_type": "code",
      "metadata": {
        "id": "-eLSBl1NSRzA",
        "colab_type": "code",
        "outputId": "ab8b02cb-d1e8-412e-c597-0230ca4a711a",
        "colab": {
          "base_uri": "https://localhost:8080/",
          "height": 54
        }
      },
      "source": [
        "\"\"\"\n",
        "with open(\"sample.csv\", \"w\") as out_file:\n",
        "  with open(\"blogtext.csv\", \"r\") as in_file:\n",
        "  \t#Reading the entire dataset in\n",
        "  \tl = in_file.readlines()\n",
        "  \t#Looping through an array of 68000 int, and using that to generate random indexes. \n",
        "  \tfor i in np.random.randint(0,len(l),68000): \n",
        "  \t\tout_file.write(l[i])\n",
        "\"\"\""
      ],
      "execution_count": 0,
      "outputs": [
        {
          "output_type": "execute_result",
          "data": {
            "text/plain": [
              "'\\nwith open(\"sample.csv\", \"w\") as out_file:\\n  with open(\"blogtext.csv\", \"r\") as in_file:\\n  \\t#Reading the entire dataset in\\n  \\tl = in_file.readlines()\\n  \\t#Looping through an array of 68000 int, and using that to generate random indexes. \\n  \\tfor i in np.random.randint(0,len(l),68000): \\n  \\t\\tout_file.write(l[i])\\n'"
            ]
          },
          "metadata": {
            "tags": []
          },
          "execution_count": 3
        }
      ]
    },
    {
      "cell_type": "markdown",
      "metadata": {
        "id": "TlNe0myJbJBT",
        "colab_type": "text"
      },
      "source": [
        "# Reading file\n",
        "\n",
        "We read our sample file into a dictionary"
      ]
    },
    {
      "cell_type": "code",
      "metadata": {
        "id": "vS0ygkCuJ12a",
        "colab_type": "code",
        "colab": {}
      },
      "source": [
        "# Read file function - reads our file into a dictionary with only the English texts\n",
        "\n",
        "def read_file(file):\n",
        "\t# Creates a header (for keys) and a dictionary\n",
        "\theader = [\"id\", \"gender\", \"age\", \"topic\", \"sign\", \"date\", \"text\",\"age_group\"]\n",
        "\tblogdict = {}\n",
        "\tfor element in header:\n",
        "\t\tblogdict[element] = []\n",
        "\n",
        "\t# Creates an empty list to append each row in our data\n",
        "\tlines = []\n",
        "\n",
        "\t# Opens our data and appends each row to the empty list\n",
        "\twith open(file,'r') as f:\n",
        "\t\tfor idx, row in enumerate(csv.reader((line.replace('\\0','') for line in f), delimiter=\",\")):\n",
        "\t    # a row is a list containing all elements in a line\n",
        "\n",
        "\t\t\t# RegEx to remove every symbol that isn't a letter or number\n",
        "\t\t\ts = row[6]\n",
        "\t\t\ts = re.sub(\"[^\\w\\d'\\s\\\\t]+\", \" \", s)\n",
        "\t\t\trow[6] = s\n",
        "\n",
        "\t\t\t#adds each row to the list\n",
        "\t\t\tlines.append(row)\n",
        "\n",
        "\t# Adds the data from each line to the dictionary with corresponding keys\n",
        "\t# Initiates a langid instance that normalizes the probabilities of language identification\n",
        "\tidentifier = LanguageIdentifier.from_modelstring(model, norm_probs=True)\n",
        "\n",
        "\tfor line in lines[:10000]:\n",
        "\t\tif identifier.classify(line[6])[0] and identifier.classify(line[6])[1] > 0.5:\n",
        "\t\t\tblogdict[\"id\"].append(line[0])\n",
        "\t\t\tblogdict[\"gender\"].append(line[1])\n",
        "\t\t\tblogdict[\"age\"].append(line[2])\n",
        "\t\t\tblogdict[\"topic\"].append(line[3])\n",
        "\t\t\tblogdict[\"sign\"].append(line[4])\n",
        "\t\t\tblogdict[\"date\"].append(line[5])\n",
        "\t\t\tblogdict[\"text\"].append(line[6])\n",
        "\t\t\t\t#compressing the ages into 3 age_groups. \n",
        "\t\t\tif int(line[2]) > 27: \n",
        "\t\t\t\tblogdict[\"age_group\"].append(\"33-47\")\n",
        "\t\t\telif int(line[2]) > 22:\n",
        "\t\t\t\tblogdict[\"age_group\"].append(\"23-27\")\n",
        "\t\t\telif int(line[2]) > 12:\n",
        "\t\t\t\tblogdict[\"age_group\"].append(\"13-17\")\n",
        "\treturn blogdict"
      ],
      "execution_count": 0,
      "outputs": []
    },
    {
      "cell_type": "code",
      "metadata": {
        "id": "HAlcl8mcLAJK",
        "colab_type": "code",
        "outputId": "030c8ef4-e782-4ffb-a323-eacce0c6475e",
        "colab": {
          "base_uri": "https://localhost:8080/",
          "height": 34
        }
      },
      "source": [
        "# Assigning our read data (dictionary) as a variable\n",
        "\n",
        "blogdict = read_file(\"sample.csv\")\n",
        "print(blogdict[\"topic\"][0:5])"
      ],
      "execution_count": 0,
      "outputs": [
        {
          "output_type": "stream",
          "text": [
            "['Arts', 'Technology', 'Student', 'Non-Profit', 'Student']\n"
          ],
          "name": "stdout"
        }
      ]
    },
    {
      "cell_type": "code",
      "metadata": {
        "id": "mUGajOZW2wYM",
        "colab_type": "code",
        "outputId": "b63a2661-2a20-467e-a843-d324c08ec034",
        "colab": {
          "base_uri": "https://localhost:8080/",
          "height": 54
        }
      },
      "source": [
        "print(blogdict[\"text\"][:3])"
      ],
      "execution_count": 0,
      "outputs": [
        {
          "output_type": "stream",
          "text": [
            "[\"           yes  yes  yes   everyone can edit their own posts   but let's not focus on that   let's focus on sweet  sweet peach pie          \", \"       But not for a lack of trying   Charley was the first real hurricane that I've experienced  I have a little more respect for them than before   I live in Winter Springs  Central Florida  My apartment complex got hammered  The first entrance is still blocked by an oak tree and there are branches of every type and size littering the entire complex   The power went out Friday night at 9 30 pm but forunately was back on by Saturday night  in time for the Saturday Iron Chef showing   Fortunately  none of my friends or family are any worse for the wear  even though there are still power issues throughout Central Florida    My parents live in Longwood  a few miles from me  and I opted to spend the hurricane there  because  as you know  misery loves company  I wasn't very comfortable  so when the power came back on at 3 30 Saturday morning  I opted to drive home   That was the scariest road trip ever  I live all of 3 miles away and it's the longest 3 miles I've ever driven  Trees in the roadway  signs all over the place  shredded canopies  you name it   It sucked  Hopefully that will be the last Central Florida hurricane for another 40 years   But don't count on it     \", \"              Whassup  I wanna log into net last night around 9 10  But the match between Man Utd and Arsenal i can't miss  So  I never log in  Hahaha  kinda cool match though  Lots of rough tacklings  Hahaha  No matter  Had a great night yesterday  Even though Jenni never come online  Maybe she's busy or something  Who knows  It's ok  Went to had breakfast with my homies  Saw Jenni's friend Wendy at the hawker centre with her Mum  Hahaha  She never noticed me  Nah  Kinda bored today  But my cousin's coming today  He's staying over a couple of days  Play some games Most probably PS2  Hahaha  That's for now though Peace Out            \"]\n"
          ],
          "name": "stdout"
        }
      ]
    },
    {
      "cell_type": "markdown",
      "metadata": {
        "id": "N-5IIdcibi9H",
        "colab_type": "text"
      },
      "source": [
        "# Further cleaning\n",
        "\n",
        "Stemming and removing stopwords from the text data in the dictionary."
      ]
    },
    {
      "cell_type": "code",
      "metadata": {
        "id": "mrHdonw6LC7g",
        "colab_type": "code",
        "colab": {}
      },
      "source": [
        "# Stemming, removing stopwords\n",
        "\n",
        "def stem_and_remove_stopwords_Sentence(sentence):\n",
        "    #Tokenizes the input\n",
        "    token_words=word_tokenize(sentence)\n",
        "    token_words\n",
        "\n",
        "    stop_words = set(stopwords.words('english'))\n",
        "\n",
        "    added_stopwords=[\"'t\",\"'s\",\"'re\", \"n't\", \"'t\", \"'ve\",\"'\",\"'m\",\"'\",\"'no\",\"'ll\",\"'well\",\"'d\"] \n",
        "    for i in added_stopwords:\n",
        "      stop_words.add(i)\n",
        "\n",
        "    #Making a set of english stopwords from NLTK. Have added additional stopwords to\n",
        "    #These being = 't, 's,'re, n't, 't, 've,\"',\",'m,','no,'ll,'well,'d\n",
        "    stem_sentence=[]\n",
        "    \n",
        "    #Looping through the tokenized sentences and removing stopwords and stemming non stop words. \n",
        "    for word in token_words:\n",
        "    \tif not word in stop_words:\n",
        "    \t\tstem_sentence.append(porter.stem(word))\n",
        "    return stem_sentence"
      ],
      "execution_count": 0,
      "outputs": []
    },
    {
      "cell_type": "code",
      "metadata": {
        "id": "JB9YMO1rLKxp",
        "colab_type": "code",
        "colab": {}
      },
      "source": [
        "# Iterates through stemming function for each line of text, so that each word in the line gets stemmed and stopwords are removed\n",
        "\n",
        "for i in range(0,len(blogdict[\"id\"])):\n",
        "\t\tblogdict[\"text\"][i] = stem_and_remove_stopwords_Sentence(blogdict[\"text\"][i])"
      ],
      "execution_count": 0,
      "outputs": []
    },
    {
      "cell_type": "code",
      "metadata": {
        "id": "I2gS4oqmISp5",
        "colab_type": "code",
        "colab": {}
      },
      "source": [
        "for idx,i in enumerate(blogdict[\"text\"]):\n",
        "\tif len(i) < 3:\n",
        "\t\tdel blogdict[\"id\"][idx]\n",
        "\t\tdel blogdict[\"gender\"][idx]\n",
        "\t\tdel blogdict[\"age\"][idx]\n",
        "\t\tdel blogdict[\"topic\"][idx]\n",
        "\t\tdel blogdict[\"sign\"][idx]\n",
        "\t\tdel blogdict[\"date\"][idx]\n",
        "\t\tdel blogdict[\"text\"][idx]"
      ],
      "execution_count": 0,
      "outputs": []
    },
    {
      "cell_type": "markdown",
      "metadata": {
        "id": "8g81QvhcbsFl",
        "colab_type": "text"
      },
      "source": [
        "# Frequency Distribution\n",
        "\n",
        "Creates a frequency distribution from a list, and returns:\n",
        "\n",
        "*   The frequency distribution\n",
        "*   The 3000 most common elements in the list\n",
        "\n"
      ]
    },
    {
      "cell_type": "code",
      "metadata": {
        "id": "DOX2Px2an_vT",
        "colab_type": "code",
        "colab": {}
      },
      "source": [
        "# Combines all lists of texts in our data into a single list \n",
        "\n",
        "flat_list = [item for sublist in blogdict[\"text\"] for item in sublist]"
      ],
      "execution_count": 0,
      "outputs": []
    },
    {
      "cell_type": "code",
      "metadata": {
        "id": "GLOf4BhmMF3T",
        "colab_type": "code",
        "colab": {}
      },
      "source": [
        "# Frequency distribution function on all our texts (The function finds the frequency distribution of all used words)\n",
        "# Also returns list of top 3000 most common words \n",
        "\n",
        "def freq_model(flat_list):\n",
        "\t# Finds frequency distribution on list\n",
        "\tFD=FreqDist(flat_list)\n",
        "\t\n",
        "\t# Creates a list of top 3000 common words in frequency distribution\n",
        "\tword_features = list(w[0] for w in FD.most_common(3000))\n",
        "\t\n",
        "\treturn FD, word_features"
      ],
      "execution_count": 0,
      "outputs": []
    },
    {
      "cell_type": "code",
      "metadata": {
        "id": "itqmHQgnNYLa",
        "colab_type": "code",
        "colab": {}
      },
      "source": [
        "# Runs frequency distribution function on all words (unigrams) and assigns variables (frequency distribution and 3000 most common words)\n",
        "\n",
        "FD, word_features = freq_model(flat_list)"
      ],
      "execution_count": 0,
      "outputs": []
    },
    {
      "cell_type": "markdown",
      "metadata": {
        "id": "blNKCKJndW_X",
        "colab_type": "text"
      },
      "source": [
        "# Feature Extractor\n",
        "\n",
        "The Feature Extractor takes in a list of elements (words, bigrams or similar), and checks whether or not each of the most common elements from the frequency distribution is in the list or not.\n",
        "\n",
        "Returns a dictionary with the most common elements as keys and True or False as values."
      ]
    },
    {
      "cell_type": "code",
      "metadata": {
        "id": "aWaKCRaCNaZK",
        "colab_type": "code",
        "colab": {}
      },
      "source": [
        "# Feature Extractor\n",
        "# Inputs text and returns a dictionary with the commons words as keys, \n",
        "# and the values True/False if the common word appears in the text\n",
        "\n",
        "def find_features(document, word_features):\n",
        "\tif type(document[0]) == str:\n",
        "\t\twords = set(document)\n",
        "\telse:\n",
        "\t\twords = set([\" \".join(tup) for tup in document])\n",
        "\t#if len(word_features[0]) > 1:\n",
        "\tif type(word_features[0]) == tuple:\n",
        "\t\tword_features = set([\" \".join(tup) for tup in word_features])\n",
        "\t\n",
        "\tfeatures = {}\n",
        "\tfor w in word_features:\n",
        "\t\tfeatures[w] = (w in words)\n",
        "\t\n",
        "\treturn features\n"
      ],
      "execution_count": 0,
      "outputs": []
    },
    {
      "cell_type": "markdown",
      "metadata": {
        "id": "rQ5PfDfefCLv",
        "colab_type": "text"
      },
      "source": [
        "# Creating Sets\n",
        "\n",
        "This function creates a training set, dev set and a test set by iterating over each feature and label pair (putting the feature into the Feature Extractor).\n",
        "\n",
        "Returns lists of pairs where;\n",
        "\n",
        "\n",
        "*   Index 0 is the output of the Feature Extractor on the feature\n",
        "*   Index 1 is the label\n",
        "\n"
      ]
    },
    {
      "cell_type": "code",
      "metadata": {
        "id": "0BwLzGSpNzu2",
        "colab_type": "code",
        "colab": {}
      },
      "source": [
        "# A function that creates featuresets, training set, dev set and test set\n",
        "# By iterating and inputing each text into the Feature Extractor above\n",
        "\n",
        "def creating_sets(feature, label, word_features):\n",
        "    documents = list(zip(feature, label))\n",
        "    random.shuffle(documents)\n",
        "    # Creates a list with set pairs of (features, label) with each text and gender in the dict\n",
        "    if label == blogdict[\"topic\"]:\n",
        "      feature_sets = [(find_features(n, word_features), \"Student\") if topic == \"Student\" else (find_features(n, word_features), \"Not student\") for (n,topic) in documents]\n",
        "\n",
        "    else:\n",
        "      feature_sets = [(find_features(n, word_features), lab) for (n,lab) in documents]\n",
        "\n",
        "    # Creates a train set with 90% of the feature-label data, and a test set with 10% of the data\n",
        "    train_set = feature_sets[:round(len(feature_sets)*0.9)]\n",
        "    test_set = feature_sets[round(len(feature_sets)*0.9):]\n",
        "    \n",
        "    return train_set, test_set"
      ],
      "execution_count": 0,
      "outputs": []
    },
    {
      "cell_type": "markdown",
      "metadata": {
        "id": "uWBaMZ4ZmcoA",
        "colab_type": "text"
      },
      "source": [
        "# Creating Bigrams and Trigrams\n",
        "\n",
        "Creates bigrams and trigrams for each of the texts and adds them to new keys in the dictionary of our data"
      ]
    },
    {
      "cell_type": "code",
      "metadata": {
        "id": "JLpAXBYqZlZb",
        "colab_type": "code",
        "colab": {}
      },
      "source": [
        "# Creates bigrams and trigrams\n",
        "\n",
        "blogdict[\"bigrams\"] = []\n",
        "blogdict[\"trigrams\"] = []\n",
        "\n",
        "for text in blogdict[\"text\"]:\n",
        "  current_bi = []\n",
        "  current_tri = []\n",
        "\n",
        "  bigrams = ngrams(text, 2)\n",
        "\n",
        "  for gram in bigrams:\n",
        "    current_bi.append(gram)\n",
        "\n",
        "  trigrams = ngrams(text, 3)\n",
        "\n",
        "  for gram in trigrams:\n",
        "    current_tri.append(gram)\n",
        "\n",
        "  blogdict[\"bigrams\"].append(current_bi)\n",
        "  blogdict[\"trigrams\"].append(current_tri)"
      ],
      "execution_count": 0,
      "outputs": []
    },
    {
      "cell_type": "code",
      "metadata": {
        "id": "psMhCoTK9NM9",
        "colab_type": "code",
        "outputId": "76a840df-98ed-4b10-ab3b-4e5b80942813",
        "colab": {
          "base_uri": "https://localhost:8080/",
          "height": 87
        }
      },
      "source": [
        "# Sanity check\n",
        "\n",
        "print(blogdict[\"text\"][0])\n",
        "print(blogdict[\"bigrams\"][0])\n",
        "print(blogdict[\"trigrams\"][0])"
      ],
      "execution_count": 0,
      "outputs": [
        {
          "output_type": "stream",
          "text": [
            "['ye', 'ye', 'ye', 'everyon', 'edit', 'post', 'let', 'focu', 'let', 'focu', 'sweet', 'sweet', 'peach', 'pie']\n",
            "[('ye', 'ye'), ('ye', 'ye'), ('ye', 'everyon'), ('everyon', 'edit'), ('edit', 'post'), ('post', 'let'), ('let', 'focu'), ('focu', 'let'), ('let', 'focu'), ('focu', 'sweet'), ('sweet', 'sweet'), ('sweet', 'peach'), ('peach', 'pie')]\n",
            "[('ye', 'ye', 'ye'), ('ye', 'ye', 'everyon'), ('ye', 'everyon', 'edit'), ('everyon', 'edit', 'post'), ('edit', 'post', 'let'), ('post', 'let', 'focu'), ('let', 'focu', 'let'), ('focu', 'let', 'focu'), ('let', 'focu', 'sweet'), ('focu', 'sweet', 'sweet'), ('sweet', 'sweet', 'peach'), ('sweet', 'peach', 'pie')]\n"
          ],
          "name": "stdout"
        }
      ]
    },
    {
      "cell_type": "markdown",
      "metadata": {
        "id": "XBqamWVymvvZ",
        "colab_type": "text"
      },
      "source": [
        "Creates bigrams and trigrams for the whole list combined"
      ]
    },
    {
      "cell_type": "code",
      "metadata": {
        "id": "hWYLG9R8GdKG",
        "colab_type": "code",
        "outputId": "365c4439-35ac-41ca-bbe3-b07a781c95e4",
        "colab": {
          "base_uri": "https://localhost:8080/",
          "height": 386
        }
      },
      "source": [
        "# Creating bigrams and trigrams for the whole list of all texts combined\n",
        "# This is used for frequency distribution\n",
        "\n",
        "bigrams = ngrams(flat_list, 2)\n",
        "trigrams = ngrams(flat_list, 3)\n",
        "\n",
        "# Sanity check\n",
        "\n",
        "for idx,gram in enumerate(bigrams):\n",
        "  print(gram)\n",
        "  if idx == 10:\n",
        "    break\n",
        "\n",
        "for idx,gram in enumerate(trigrams):\n",
        "  print(gram)\n",
        "  if idx == 10:\n",
        "    break"
      ],
      "execution_count": 0,
      "outputs": [
        {
          "output_type": "stream",
          "text": [
            "('ye', 'ye')\n",
            "('ye', 'ye')\n",
            "('ye', 'everyon')\n",
            "('everyon', 'edit')\n",
            "('edit', 'post')\n",
            "('post', 'let')\n",
            "('let', 'focu')\n",
            "('focu', 'let')\n",
            "('let', 'focu')\n",
            "('focu', 'sweet')\n",
            "('sweet', 'sweet')\n",
            "('ye', 'ye', 'ye')\n",
            "('ye', 'ye', 'everyon')\n",
            "('ye', 'everyon', 'edit')\n",
            "('everyon', 'edit', 'post')\n",
            "('edit', 'post', 'let')\n",
            "('post', 'let', 'focu')\n",
            "('let', 'focu', 'let')\n",
            "('focu', 'let', 'focu')\n",
            "('let', 'focu', 'sweet')\n",
            "('focu', 'sweet', 'sweet')\n",
            "('sweet', 'sweet', 'peach')\n"
          ],
          "name": "stdout"
        }
      ]
    },
    {
      "cell_type": "markdown",
      "metadata": {
        "id": "_hAx6-8BnQFU",
        "colab_type": "text"
      },
      "source": [
        "Creates a Frequency Distribution and the top 3000 most common elements for the bigrams and trigrams"
      ]
    },
    {
      "cell_type": "code",
      "metadata": {
        "id": "pgAD8K2RZp3-",
        "colab_type": "code",
        "colab": {}
      },
      "source": [
        "# Frequency distribution and word features for bigrams and trigrams:\n",
        "\n",
        "FD_bigrams, word_features_bi = freq_model(bigrams)\n",
        "\n",
        "FD_trigrams, word_features_tri = freq_model(trigrams)"
      ],
      "execution_count": 0,
      "outputs": []
    },
    {
      "cell_type": "markdown",
      "metadata": {
        "id": "C6yNP_NeVbIK",
        "colab_type": "text"
      },
      "source": [
        "# Predicting Gender"
      ]
    },
    {
      "cell_type": "markdown",
      "metadata": {
        "id": "A-OuPcdVl1Nw",
        "colab_type": "text"
      },
      "source": [
        "### Unigrams"
      ]
    },
    {
      "cell_type": "code",
      "metadata": {
        "id": "L9ImmKrAON9q",
        "colab_type": "code",
        "colab": {}
      },
      "source": [
        "# Creates the set (using creating_sets function)\n",
        "train_set, test_set = creating_sets(blogdict[\"text\"], blogdict[\"gender\"], word_features)"
      ],
      "execution_count": 0,
      "outputs": []
    },
    {
      "cell_type": "code",
      "metadata": {
        "id": "Epq-OMTiOVMd",
        "colab_type": "code",
        "colab": {}
      },
      "source": [
        "# Bayes Classifier as a variable on training set\n",
        "\n",
        "classifier = nltk.NaiveBayesClassifier.train(train_set)"
      ],
      "execution_count": 0,
      "outputs": []
    },
    {
      "cell_type": "code",
      "metadata": {
        "id": "RqZI_LxJUE6Z",
        "colab_type": "code",
        "outputId": "565e7f70-2c74-4dfb-844c-f733aee0a44d",
        "colab": {
          "base_uri": "https://localhost:8080/",
          "height": 34
        }
      },
      "source": [
        "# Tests, assigns and prints accuracy of our model\n",
        "\n",
        "accuracy = nltk.classify.accuracy(classifier, test_set)\n",
        "print(accuracy)"
      ],
      "execution_count": 0,
      "outputs": [
        {
          "output_type": "stream",
          "text": [
            "0.5870236869207003\n"
          ],
          "name": "stdout"
        }
      ]
    },
    {
      "cell_type": "code",
      "metadata": {
        "id": "7bgaEJjEUnzL",
        "colab_type": "code",
        "outputId": "4ba2f8fc-eaae-4240-d307-86d72cdf13b8",
        "colab": {
          "base_uri": "https://localhost:8080/",
          "height": 286
        }
      },
      "source": [
        "# Displays 5 most informative features\n",
        "\n",
        "classifier.show_most_informative_features(15)"
      ],
      "execution_count": 0,
      "outputs": [
        {
          "output_type": "stream",
          "text": [
            "Most Informative Features\n",
            "                   peach = True           female : male   =     10.0 : 1.0\n",
            "                   gmail = True             male : female =      8.5 : 1.0\n",
            "                   kitti = True           female : male   =      7.2 : 1.0\n",
            "                     lyk = True           female : male   =      7.2 : 1.0\n",
            "               microsoft = True             male : female =      6.8 : 1.0\n",
            "                    knit = True           female : male   =      6.4 : 1.0\n",
            "                      PC = True             male : female =      5.7 : 1.0\n",
            "                   islam = True             male : female =      5.1 : 1.0\n",
            "                 laundri = True           female : male   =      5.0 : 1.0\n",
            "                    sara = True           female : male   =      4.9 : 1.0\n",
            "                  michel = True           female : male   =      4.7 : 1.0\n",
            "                 vietnam = True             male : female =      4.6 : 1.0\n",
            "                      um = True           female : male   =      4.5 : 1.0\n",
            "                     ban = True             male : female =      4.4 : 1.0\n",
            "                   yummi = True           female : male   =      4.4 : 1.0\n"
          ],
          "name": "stdout"
        }
      ]
    },
    {
      "cell_type": "markdown",
      "metadata": {
        "id": "QqXWLvvoQ3BW",
        "colab_type": "text"
      },
      "source": [
        "#### Confusion Matrix"
      ]
    },
    {
      "cell_type": "code",
      "metadata": {
        "id": "DncuZz7vPmvB",
        "colab_type": "code",
        "outputId": "3e98c269-fd44-44e7-8ff0-ae8172f964c3",
        "colab": {
          "base_uri": "https://localhost:8080/",
          "height": 296
        }
      },
      "source": [
        "# Confusion Matrix\n",
        "\n",
        "predicted = classifier.classify_many(i[0] for i in test_set)\n",
        "\n",
        "data = {'y_Actual':    [i[1] for i in test_set],\n",
        "        'y_Predicted': predicted\n",
        "        }\n",
        "\n",
        "df = pd.DataFrame(data, columns=['y_Actual','y_Predicted'])\n",
        "confusion_matrix = pd.crosstab(df['y_Actual'], df['y_Predicted'], rownames=['Actual'], colnames=['Predicted'])\n",
        "\n",
        "sn.heatmap(confusion_matrix, annot=True, fmt='g')"
      ],
      "execution_count": 0,
      "outputs": [
        {
          "output_type": "execute_result",
          "data": {
            "text/plain": [
              "<matplotlib.axes._subplots.AxesSubplot at 0x7f43ac0831d0>"
            ]
          },
          "metadata": {
            "tags": []
          },
          "execution_count": 23
        },
        {
          "output_type": "display_data",
          "data": {
            "image/png": "[encoded data removed]",
            "text/plain": [
              "<Figure size 432x288 with 2 Axes>"
            ]
          },
          "metadata": {
            "tags": []
          }
        }
      ]
    },
    {
      "cell_type": "markdown",
      "metadata": {
        "id": "kM2Ue02pvNgR",
        "colab_type": "text"
      },
      "source": [
        "### Bigrams and trigrams"
      ]
    },
    {
      "cell_type": "code",
      "metadata": {
        "id": "pt-S2T1HxFiD",
        "colab_type": "code",
        "colab": {}
      },
      "source": [
        "# Creates the set (using creating_sets function)\n",
        "bi_train_set, bi_test_set = creating_sets(blogdict[\"bigrams\"], blogdict[\"gender\"], word_features_bi)\n",
        "tri_train_set, tri_test_set = creating_sets(blogdict[\"trigrams\"], blogdict[\"gender\"], word_features_tri)"
      ],
      "execution_count": 0,
      "outputs": []
    },
    {
      "cell_type": "code",
      "metadata": {
        "id": "Z6-QKTv7yGwH",
        "colab_type": "code",
        "colab": {}
      },
      "source": [
        "# Bayes Classifier as a variable on training set\n",
        "\n",
        "bi_classifier = nltk.NaiveBayesClassifier.train(bi_train_set)\n",
        "tri_classifier = nltk.NaiveBayesClassifier.train(tri_train_set)"
      ],
      "execution_count": 0,
      "outputs": []
    },
    {
      "cell_type": "code",
      "metadata": {
        "id": "Z46rPBAJq-7v",
        "colab_type": "code",
        "outputId": "e4764d50-1887-432f-9d6b-d348322db318",
        "colab": {
          "base_uri": "https://localhost:8080/",
          "height": 50
        }
      },
      "source": [
        "# Tests, assigns and prints accuracy of our model\n",
        "\n",
        "bi_accuracy = nltk.classify.accuracy(bi_classifier, bi_test_set)\n",
        "print(bi_accuracy)\n",
        "\n",
        "tri_accuracy = nltk.classify.accuracy(tri_classifier, tri_test_set)\n",
        "print(tri_accuracy)"
      ],
      "execution_count": 0,
      "outputs": [
        {
          "output_type": "stream",
          "text": [
            "0.5664263645726055\n",
            "0.5674562306900103\n"
          ],
          "name": "stdout"
        }
      ]
    },
    {
      "cell_type": "code",
      "metadata": {
        "id": "P6Xslyemq_F6",
        "colab_type": "code",
        "outputId": "c6eb71b2-c673-4951-8918-9d5f133111c7",
        "colab": {
          "base_uri": "https://localhost:8080/",
          "height": 286
        }
      },
      "source": [
        "# Displays most informative features\n",
        "\n",
        "bi_classifier.show_most_informative_features(15)"
      ],
      "execution_count": 0,
      "outputs": [
        {
          "output_type": "stream",
          "text": [
            "Most Informative Features\n",
            "              thing ever = True           female : male   =     14.7 : 1.0\n",
            "             these peopl = True             male : female =     11.4 : 1.0\n",
            "                know els = True           female : male   =      8.4 : 1.0\n",
            "                It might = True           female : male   =      8.4 : 1.0\n",
            "               depress I = True           female : male   =      7.6 : 1.0\n",
            "                life and = True           female : male   =      7.2 : 1.0\n",
            "              whole life = True           female : male   =      6.6 : 1.0\n",
            "               game play = True             male : female =      6.1 : 1.0\n",
            "              find anyth = True           female : male   =      6.0 : 1.0\n",
            "            link urllink = True             male : female =      6.0 : 1.0\n",
            "                did know = True           female : male   =      5.9 : 1.0\n",
            "            think pretti = True           female : male   =      5.9 : 1.0\n",
            "              want anyth = True           female : male   =      5.9 : 1.0\n",
            "                   co uk = True             male : female =      5.3 : 1.0\n",
            "              right wing = True             male : female =      5.3 : 1.0\n"
          ],
          "name": "stdout"
        }
      ]
    },
    {
      "cell_type": "code",
      "metadata": {
        "id": "IWNfs7eF68AY",
        "colab_type": "code",
        "outputId": "a8accea7-d2e7-4dfd-b118-2c4018e565e1",
        "colab": {
          "base_uri": "https://localhost:8080/",
          "height": 286
        }
      },
      "source": [
        "# Displays most informative features\n",
        "\n",
        "tri_classifier.show_most_informative_features(15)"
      ],
      "execution_count": 0,
      "outputs": [
        {
          "output_type": "stream",
          "text": [
            "Most Informative Features\n",
            "           I could write = True           female : male   =      7.9 : 1.0\n",
            "           I guess could = True           female : male   =      7.2 : 1.0\n",
            "               I drunk I = True           female : male   =      6.5 : 1.0\n",
            "               but I get = True           female : male   =      6.5 : 1.0\n",
            "             I want live = True           female : male   =      6.5 : 1.0\n",
            "            I sound like = True           female : male   =      6.5 : 1.0\n",
            "             I get earli = True           female : male   =      6.5 : 1.0\n",
            "             next year I = True           female : male   =      5.8 : 1.0\n",
            "              I love way = True           female : male   =      5.8 : 1.0\n",
            "     graduat high school = True           female : male   =      5.8 : 1.0\n",
            "              I love guy = True           female : male   =      5.8 : 1.0\n",
            "             nbsp I feel = True           female : male   =      5.8 : 1.0\n",
            "             well I love = True           female : male   =      5.8 : 1.0\n",
            "             I got spend = True           female : male   =      5.8 : 1.0\n",
            "            I kinda like = True             male : female =      5.5 : 1.0\n"
          ],
          "name": "stdout"
        }
      ]
    },
    {
      "cell_type": "markdown",
      "metadata": {
        "id": "IuDjqgCjS59H",
        "colab_type": "text"
      },
      "source": [
        "#### Confusion Matrix"
      ]
    },
    {
      "cell_type": "code",
      "metadata": {
        "id": "Sds3NMD3RFFg",
        "colab_type": "code",
        "outputId": "23bce563-3df5-45cf-d763-0490df8339d3",
        "colab": {
          "base_uri": "https://localhost:8080/",
          "height": 296
        }
      },
      "source": [
        "# Confusion Matrix - Bigrams\n",
        "\n",
        "predicted = bi_classifier.classify_many(i[0] for i in bi_test_set)\n",
        "\n",
        "data = {'y_Actual':    [i[1] for i in bi_test_set],\n",
        "        'y_Predicted': predicted\n",
        "        }\n",
        "\n",
        "df = pd.DataFrame(data, columns=['y_Actual','y_Predicted'])\n",
        "confusion_matrix = pd.crosstab(df['y_Actual'], df['y_Predicted'], rownames=['Actual'], colnames=['Predicted'])\n",
        "\n",
        "sn.heatmap(confusion_matrix, annot=True, fmt='g')"
      ],
      "execution_count": 0,
      "outputs": [
        {
          "output_type": "execute_result",
          "data": {
            "text/plain": [
              "<matplotlib.axes._subplots.AxesSubplot at 0x7f42cb42c9e8>"
            ]
          },
          "metadata": {
            "tags": []
          },
          "execution_count": 29
        },
        {
          "output_type": "display_data",
          "data": {
            "image/png": "[encoded data removed]",
            "text/plain": [
              "<Figure size 432x288 with 2 Axes>"
            ]
          },
          "metadata": {
            "tags": []
          }
        }
      ]
    },
    {
      "cell_type": "code",
      "metadata": {
        "id": "-TIJbncXRVbS",
        "colab_type": "code",
        "outputId": "c4b374c6-7d7b-4232-ced4-17b386476d09",
        "colab": {
          "base_uri": "https://localhost:8080/",
          "height": 296
        }
      },
      "source": [
        "# Confusion Matrix - Trigrams\n",
        "\n",
        "predicted = tri_classifier.classify_many(i[0] for i in tri_test_set)\n",
        "\n",
        "data = {'y_Actual':    [i[1] for i in tri_test_set],\n",
        "        'y_Predicted': predicted\n",
        "        }\n",
        "\n",
        "df = pd.DataFrame(data, columns=['y_Actual','y_Predicted'])\n",
        "confusion_matrix = pd.crosstab(df['y_Actual'], df['y_Predicted'], rownames=['Actual'], colnames=['Predicted'])\n",
        "\n",
        "sn.heatmap(confusion_matrix, annot=True, fmt='g')"
      ],
      "execution_count": 0,
      "outputs": [
        {
          "output_type": "execute_result",
          "data": {
            "text/plain": [
              "<matplotlib.axes._subplots.AxesSubplot at 0x7f42cb3e21d0>"
            ]
          },
          "metadata": {
            "tags": []
          },
          "execution_count": 30
        },
        {
          "output_type": "display_data",
          "data": {
            "image/png": "[encoded data removed]",
            "text/plain": [
              "<Figure size 432x288 with 2 Axes>"
            ]
          },
          "metadata": {
            "tags": []
          }
        }
      ]
    },
    {
      "cell_type": "markdown",
      "metadata": {
        "colab_type": "text",
        "id": "RdP796DEyoZz"
      },
      "source": [
        "# Predicting Topics (Student or not)"
      ]
    },
    {
      "cell_type": "markdown",
      "metadata": {
        "colab_type": "text",
        "id": "XHNUZg5ZyoaL"
      },
      "source": [
        "### Unigrams"
      ]
    },
    {
      "cell_type": "code",
      "metadata": {
        "colab_type": "code",
        "id": "5szaxdNzyoaP",
        "colab": {}
      },
      "source": [
        "# Creates the set (using creating_sets function)\n",
        "train_set, test_set = creating_sets(blogdict[\"text\"], blogdict[\"topic\"], word_features)"
      ],
      "execution_count": 0,
      "outputs": []
    },
    {
      "cell_type": "code",
      "metadata": {
        "colab_type": "code",
        "id": "KdJWUgxdyoac",
        "colab": {}
      },
      "source": [
        "# Bayes Classifier as a variable on training set\n",
        "\n",
        "classifier = nltk.NaiveBayesClassifier.train(train_set)"
      ],
      "execution_count": 0,
      "outputs": []
    },
    {
      "cell_type": "code",
      "metadata": {
        "colab_type": "code",
        "id": "kLQtpSiZyoak",
        "outputId": "43699525-9624-46e9-eabc-5bfa70062209",
        "colab": {
          "base_uri": "https://localhost:8080/",
          "height": 34
        }
      },
      "source": [
        "# Tests, assigns and prints accuracy of our model\n",
        "\n",
        "accuracy = nltk.classify.accuracy(classifier, test_set)\n",
        "print(accuracy)"
      ],
      "execution_count": 0,
      "outputs": [
        {
          "output_type": "stream",
          "text": [
            "0.7312049433573635\n"
          ],
          "name": "stdout"
        }
      ]
    },
    {
      "cell_type": "code",
      "metadata": {
        "colab_type": "code",
        "id": "APvk_vjQyoav",
        "outputId": "0b322033-670c-4469-daf2-86f4734e665e",
        "colab": {
          "base_uri": "https://localhost:8080/",
          "height": 286
        }
      },
      "source": [
        "# Displays 5 most informative features\n",
        "\n",
        "classifier.show_most_informative_features(15)"
      ],
      "execution_count": 0,
      "outputs": [
        {
          "output_type": "stream",
          "text": [
            "Most Informative Features\n",
            "                    tyke = True           Studen : Not st =     12.3 : 1.0\n",
            "                      tt = True           Studen : Not st =      8.3 : 1.0\n",
            "                  employ = True           Not st : Studen =      6.6 : 1.0\n",
            "                   retir = True           Not st : Studen =      6.3 : 1.0\n",
            "                    haiz = True           Studen : Not st =      5.8 : 1.0\n",
            "                     não = True           Studen : Not st =      5.6 : 1.0\n",
            "                       é = True           Studen : Not st =      5.6 : 1.0\n",
            "                 suspect = True           Not st : Studen =      5.3 : 1.0\n",
            "                   labor = True           Not st : Studen =      5.3 : 1.0\n",
            "                   agenc = True           Not st : Studen =      5.3 : 1.0\n",
            "                    rite = True           Studen : Not st =      5.2 : 1.0\n",
            "                     lor = True           Studen : Not st =      5.1 : 1.0\n",
            "                     oso = True           Studen : Not st =      5.1 : 1.0\n",
            "                   voter = True           Not st : Studen =      5.1 : 1.0\n",
            "                     wif = True           Studen : Not st =      5.0 : 1.0\n"
          ],
          "name": "stdout"
        }
      ]
    },
    {
      "cell_type": "markdown",
      "metadata": {
        "id": "TmoUJpfsS0IR",
        "colab_type": "text"
      },
      "source": [
        "#### Confusion Matrix"
      ]
    },
    {
      "cell_type": "code",
      "metadata": {
        "id": "XnopYjg9SzJ3",
        "colab_type": "code",
        "outputId": "af8d3314-d43d-445a-d301-3f6b479bc66b",
        "colab": {
          "base_uri": "https://localhost:8080/",
          "height": 296
        }
      },
      "source": [
        "# Confusion Matrix\n",
        "\n",
        "predicted = classifier.classify_many(i[0] for i in test_set)\n",
        "\n",
        "data = {'y_Actual':    [i[1] for i in test_set],\n",
        "        'y_Predicted': predicted\n",
        "        }\n",
        "\n",
        "df = pd.DataFrame(data, columns=['y_Actual','y_Predicted'])\n",
        "confusion_matrix = pd.crosstab(df['y_Actual'], df['y_Predicted'], rownames=['Actual'], colnames=['Predicted'])\n",
        "\n",
        "sn.heatmap(confusion_matrix, annot=True, fmt='g')"
      ],
      "execution_count": 0,
      "outputs": [
        {
          "output_type": "execute_result",
          "data": {
            "text/plain": [
              "<matplotlib.axes._subplots.AxesSubplot at 0x7f43bd424ef0>"
            ]
          },
          "metadata": {
            "tags": []
          },
          "execution_count": 35
        },
        {
          "output_type": "display_data",
          "data": {
            "image/png": "[encoded data removed]",
            "text/plain": [
              "<Figure size 432x288 with 2 Axes>"
            ]
          },
          "metadata": {
            "tags": []
          }
        }
      ]
    },
    {
      "cell_type": "markdown",
      "metadata": {
        "colab_type": "text",
        "id": "JCHAdi6cyoa5"
      },
      "source": [
        "### Bigrams and trigrams"
      ]
    },
    {
      "cell_type": "code",
      "metadata": {
        "colab_type": "code",
        "id": "381ZWBSSyoa8",
        "colab": {}
      },
      "source": [
        "# Creates the set (using creating_sets function)\n",
        "bi_train_set, bi_test_set = creating_sets(blogdict[\"bigrams\"], blogdict[\"topic\"], word_features_bi)\n",
        "tri_train_set, tri_test_set = creating_sets(blogdict[\"trigrams\"], blogdict[\"topic\"], word_features_tri)"
      ],
      "execution_count": 0,
      "outputs": []
    },
    {
      "cell_type": "code",
      "metadata": {
        "colab_type": "code",
        "id": "g5Cw9SDByobD",
        "colab": {}
      },
      "source": [
        "# Bayes Classifier as a variable on training set\n",
        "\n",
        "bi_classifier = nltk.NaiveBayesClassifier.train(bi_train_set)\n",
        "tri_classifier = nltk.NaiveBayesClassifier.train(tri_train_set)"
      ],
      "execution_count": 0,
      "outputs": []
    },
    {
      "cell_type": "code",
      "metadata": {
        "colab_type": "code",
        "id": "2ikl6bAnyobK",
        "outputId": "0cb9b9f1-0813-4183-bc10-94554d79ac24",
        "colab": {
          "base_uri": "https://localhost:8080/",
          "height": 50
        }
      },
      "source": [
        "# Tests, assigns and prints accuracy of our model\n",
        "\n",
        "bi_accuracy = nltk.classify.accuracy(bi_classifier, bi_test_set)\n",
        "print(bi_accuracy)\n",
        "\n",
        "tri_accuracy = nltk.classify.accuracy(tri_classifier, tri_test_set)\n",
        "print(tri_accuracy)"
      ],
      "execution_count": 0,
      "outputs": [
        {
          "output_type": "stream",
          "text": [
            "0.7023686920700309\n",
            "0.741503604531411\n"
          ],
          "name": "stdout"
        }
      ]
    },
    {
      "cell_type": "code",
      "metadata": {
        "colab_type": "code",
        "id": "H4CNSTAbyobR",
        "outputId": "7b34a9d0-f88e-434e-9e0d-c5f320cdd26f",
        "colab": {
          "base_uri": "https://localhost:8080/",
          "height": 286
        }
      },
      "source": [
        "# Displays most informative features\n",
        "\n",
        "bi_classifier.show_most_informative_features(15)"
      ],
      "execution_count": 0,
      "outputs": [
        {
          "output_type": "stream",
          "text": [
            "Most Informative Features\n",
            "                15 minut = True           Not st : Studen =      8.0 : 1.0\n",
            "                     5 4 = True           Studen : Not st =      7.5 : 1.0\n",
            "            read urllink = True           Not st : Studen =      7.2 : 1.0\n",
            "               need babi = True           Studen : Not st =      6.1 : 1.0\n",
            "              post later = True           Studen : Not st =      6.1 : 1.0\n",
            "                 It must = True           Studen : Not st =      5.2 : 1.0\n",
            "                 u think = True           Studen : Not st =      5.2 : 1.0\n",
            "                  I send = True           Not st : Studen =      5.0 : 1.0\n",
            "                 go movi = True           Studen : Not st =      5.0 : 1.0\n",
            "                lol well = True           Studen : Not st =      4.9 : 1.0\n",
            "            almost everi = True           Not st : Studen =      4.8 : 1.0\n",
            "                 He told = True           Not st : Studen =      4.8 : 1.0\n",
            "               dont like = True           Studen : Not st =      4.7 : 1.0\n",
            "                  know u = True           Studen : Not st =      4.7 : 1.0\n",
            "             whole world = True           Studen : Not st =      4.7 : 1.0\n"
          ],
          "name": "stdout"
        }
      ]
    },
    {
      "cell_type": "code",
      "metadata": {
        "id": "r3hwMuZ16yUC",
        "colab_type": "code",
        "outputId": "608acc19-1892-4944-f388-6ffc52338e46",
        "colab": {
          "base_uri": "https://localhost:8080/",
          "height": 286
        }
      },
      "source": [
        "# Displays most informative features\n",
        "\n",
        "tri_classifier.show_most_informative_features(15)"
      ],
      "execution_count": 0,
      "outputs": [
        {
          "output_type": "stream",
          "text": [
            "Most Informative Features\n",
            "            I realli wan = True           Studen : Not st =     12.4 : 1.0\n",
            "        feel realli good = True           Studen : Not st =     12.4 : 1.0\n",
            "           excit I think = True           Studen : Not st =     12.4 : 1.0\n",
            "          school today I = True           Studen : Not st =     12.4 : 1.0\n",
            "                  4 30 I = True           Studen : Not st =     10.2 : 1.0\n",
            "            clean room I = True           Studen : Not st =     10.2 : 1.0\n",
            "             lol oh well = True           Studen : Not st =     10.2 : 1.0\n",
            "              I took nap = True           Studen : Not st =     10.2 : 1.0\n",
            "            everi one us = True           Studen : Not st =     10.2 : 1.0\n",
            "             wan na tell = True           Studen : Not st =     10.2 : 1.0\n",
            "              but time I = True           Studen : Not st =     10.2 : 1.0\n",
            "             day I found = True           Studen : Not st =     10.2 : 1.0\n",
            "          like I thought = True           Studen : Not st =     10.2 : 1.0\n",
            "           I realli dont = True           Studen : Not st =      8.8 : 1.0\n",
            "                 Oh ye I = True           Studen : Not st =      8.8 : 1.0\n"
          ],
          "name": "stdout"
        }
      ]
    },
    {
      "cell_type": "markdown",
      "metadata": {
        "id": "dbVSHNlzTBHG",
        "colab_type": "text"
      },
      "source": [
        "#### Confusion Matrix"
      ]
    },
    {
      "cell_type": "code",
      "metadata": {
        "id": "L7xkjztKTAlB",
        "colab_type": "code",
        "outputId": "a9c787c3-51e4-402f-85aa-22a5b7f4bc3e",
        "colab": {
          "base_uri": "https://localhost:8080/",
          "height": 296
        }
      },
      "source": [
        "# Confusion Matrix - Bigrams\n",
        "\n",
        "predicted = bi_classifier.classify_many(i[0] for i in bi_test_set)\n",
        "\n",
        "data = {'y_Actual':    [i[1] for i in bi_test_set],\n",
        "        'y_Predicted': predicted\n",
        "        }\n",
        "\n",
        "df = pd.DataFrame(data, columns=['y_Actual','y_Predicted'])\n",
        "confusion_matrix = pd.crosstab(df['y_Actual'], df['y_Predicted'], rownames=['Actual'], colnames=['Predicted'])\n",
        "\n",
        "sn.heatmap(confusion_matrix, annot=True, fmt='g')"
      ],
      "execution_count": 0,
      "outputs": [
        {
          "output_type": "execute_result",
          "data": {
            "text/plain": [
              "<matplotlib.axes._subplots.AxesSubplot at 0x7f433dab1048>"
            ]
          },
          "metadata": {
            "tags": []
          },
          "execution_count": 41
        },
        {
          "output_type": "display_data",
          "data": {
            "image/png": "[encoded data removed]",
            "text/plain": [
              "<Figure size 432x288 with 2 Axes>"
            ]
          },
          "metadata": {
            "tags": []
          }
        }
      ]
    },
    {
      "cell_type": "code",
      "metadata": {
        "id": "NZIgeMcgTAs8",
        "colab_type": "code",
        "outputId": "b64fdfe2-9d9d-4d65-a05f-8a498168494e",
        "colab": {
          "base_uri": "https://localhost:8080/",
          "height": 296
        }
      },
      "source": [
        "# Confusion Matrix - Trigrams\n",
        "\n",
        "predicted = tri_classifier.classify_many(i[0] for i in tri_test_set)\n",
        "\n",
        "data = {'y_Actual':    [i[1] for i in tri_test_set],\n",
        "        'y_Predicted': predicted\n",
        "        }\n",
        "\n",
        "df = pd.DataFrame(data, columns=['y_Actual','y_Predicted'])\n",
        "confusion_matrix = pd.crosstab(df['y_Actual'], df['y_Predicted'], rownames=['Actual'], colnames=['Predicted'])\n",
        "\n",
        "sn.heatmap(confusion_matrix, annot=True, fmt='g')"
      ],
      "execution_count": 0,
      "outputs": [
        {
          "output_type": "execute_result",
          "data": {
            "text/plain": [
              "<matplotlib.axes._subplots.AxesSubplot at 0x7f42cadf5a20>"
            ]
          },
          "metadata": {
            "tags": []
          },
          "execution_count": 42
        },
        {
          "output_type": "display_data",
          "data": {
            "image/png": "[encoded data removed]",
            "text/plain": [
              "<Figure size 432x288 with 2 Axes>"
            ]
          },
          "metadata": {
            "tags": []
          }
        }
      ]
    },
    {
      "cell_type": "markdown",
      "metadata": {
        "colab_type": "text",
        "id": "wIGSoEgEa3Fi"
      },
      "source": [
        "# Predicting Age"
      ]
    },
    {
      "cell_type": "markdown",
      "metadata": {
        "colab_type": "text",
        "id": "A-NqTnJva3Fn"
      },
      "source": [
        "### Unigrams"
      ]
    },
    {
      "cell_type": "code",
      "metadata": {
        "colab_type": "code",
        "id": "5hLKnY_3a3Fo",
        "colab": {}
      },
      "source": [
        "# Creates the set (using creating_sets function)\n",
        "train_set, test_set = creating_sets(blogdict[\"text\"], blogdict[\"age_group\"], word_features)"
      ],
      "execution_count": 0,
      "outputs": []
    },
    {
      "cell_type": "code",
      "metadata": {
        "colab_type": "code",
        "id": "-q7nyat6a3Fs",
        "colab": {}
      },
      "source": [
        "# Bayes Classifier as a variable on training set\n",
        "\n",
        "classifier = nltk.NaiveBayesClassifier.train(train_set)"
      ],
      "execution_count": 0,
      "outputs": []
    },
    {
      "cell_type": "code",
      "metadata": {
        "colab_type": "code",
        "id": "8x-lVgb5a3Ft",
        "outputId": "92cbcbca-3c2a-4611-caaf-28ac6a91beb6",
        "colab": {
          "base_uri": "https://localhost:8080/",
          "height": 34
        }
      },
      "source": [
        "# Tests, assigns and prints accuracy of our model\n",
        "\n",
        "accuracy = nltk.classify.accuracy(classifier, test_set)\n",
        "print(accuracy)"
      ],
      "execution_count": 0,
      "outputs": [
        {
          "output_type": "stream",
          "text": [
            "0.41709577754891863\n"
          ],
          "name": "stdout"
        }
      ]
    },
    {
      "cell_type": "code",
      "metadata": {
        "colab_type": "code",
        "id": "O7z8QGY4a3Fv",
        "outputId": "98b02480-2bc4-49dc-c81b-b45f5d5c92b2",
        "colab": {
          "base_uri": "https://localhost:8080/",
          "height": 286
        }
      },
      "source": [
        "# Displays 5 most informative features\n",
        "\n",
        "classifier.show_most_informative_features(15)"
      ],
      "execution_count": 0,
      "outputs": [
        {
          "output_type": "stream",
          "text": [
            "Most Informative Features\n",
            "                reaction = True            23-27 : 33-47  =      8.4 : 1.0\n",
            "                   chili = True            23-27 : 13-17  =      6.3 : 1.0\n",
            "                 balloon = True            23-27 : 33-47  =      5.0 : 1.0\n",
            "                principl = True            33-47 : 23-27  =      4.7 : 1.0\n",
            "                    darl = True            33-47 : 13-17  =      4.7 : 1.0\n",
            "                 chamber = True            13-17 : 33-47  =      4.6 : 1.0\n",
            "                      er = True            13-17 : 33-47  =      4.6 : 1.0\n",
            "                   plate = True            13-17 : 33-47  =      4.5 : 1.0\n",
            "                  jacket = True            13-17 : 33-47  =      4.1 : 1.0\n",
            "                   recip = True            23-27 : 33-47  =      3.8 : 1.0\n",
            "                 conserv = True            33-47 : 13-17  =      3.7 : 1.0\n",
            "                    plot = True            33-47 : 23-27  =      3.7 : 1.0\n",
            "                   europ = True            13-17 : 23-27  =      3.7 : 1.0\n",
            "               jumper991 = True            23-27 : 13-17  =      3.7 : 1.0\n",
            "                 assembl = True            13-17 : 33-47  =      3.6 : 1.0\n"
          ],
          "name": "stdout"
        }
      ]
    },
    {
      "cell_type": "markdown",
      "metadata": {
        "colab_type": "text",
        "id": "CZZsWP_za3Fw"
      },
      "source": [
        "#### Confusion Matrix"
      ]
    },
    {
      "cell_type": "code",
      "metadata": {
        "colab_type": "code",
        "id": "zzID-9CKa3Fx",
        "outputId": "8c1fa01c-697a-40be-def5-4bef3e206448",
        "colab": {
          "base_uri": "https://localhost:8080/",
          "height": 296
        }
      },
      "source": [
        "# Confusion Matrix\n",
        "\n",
        "predicted = classifier.classify_many(i[0] for i in test_set)\n",
        "\n",
        "data = {'y_Actual':    [i[1] for i in test_set],\n",
        "        'y_Predicted': predicted\n",
        "        }\n",
        "\n",
        "df = pd.DataFrame(data, columns=['y_Actual','y_Predicted'])\n",
        "confusion_matrix = pd.crosstab(df['y_Actual'], df['y_Predicted'], rownames=['Actual'], colnames=['Predicted'])\n",
        "\n",
        "sn.heatmap(confusion_matrix, annot=True, fmt='g')"
      ],
      "execution_count": 0,
      "outputs": [
        {
          "output_type": "execute_result",
          "data": {
            "text/plain": [
              "<matplotlib.axes._subplots.AxesSubplot at 0x7f42cb311400>"
            ]
          },
          "metadata": {
            "tags": []
          },
          "execution_count": 47
        },
        {
          "output_type": "display_data",
          "data": {
            "image/png": "[encoded data removed]",
            "text/plain": [
              "<Figure size 432x288 with 2 Axes>"
            ]
          },
          "metadata": {
            "tags": []
          }
        }
      ]
    },
    {
      "cell_type": "markdown",
      "metadata": {
        "colab_type": "text",
        "id": "f-3enK-ka3Fz"
      },
      "source": [
        "### Bigrams and trigrams"
      ]
    },
    {
      "cell_type": "code",
      "metadata": {
        "colab_type": "code",
        "id": "BcUfpUQRa3F0",
        "colab": {}
      },
      "source": [
        "# Creates the set (using creating_sets function)\n",
        "bi_train_set, bi_test_set = creating_sets(blogdict[\"bigrams\"], blogdict[\"age_group\"], word_features_bi)\n",
        "tri_train_set, tri_test_set = creating_sets(blogdict[\"trigrams\"], blogdict[\"age_group\"], word_features_tri)"
      ],
      "execution_count": 0,
      "outputs": []
    },
    {
      "cell_type": "code",
      "metadata": {
        "colab_type": "code",
        "id": "CgvI95Pia3F1",
        "colab": {}
      },
      "source": [
        "# Bayes Classifier as a variable on training set\n",
        "\n",
        "bi_classifier = nltk.NaiveBayesClassifier.train(bi_train_set)\n",
        "tri_classifier = nltk.NaiveBayesClassifier.train(tri_train_set)"
      ],
      "execution_count": 0,
      "outputs": []
    },
    {
      "cell_type": "code",
      "metadata": {
        "colab_type": "code",
        "id": "cLmf7HW9a3F3",
        "outputId": "c9fcf5de-e036-4d1c-e07e-a6aaa435aa0f",
        "colab": {
          "base_uri": "https://localhost:8080/",
          "height": 50
        }
      },
      "source": [
        "# Tests, assigns and prints accuracy of our model\n",
        "\n",
        "bi_accuracy = nltk.classify.accuracy(bi_classifier, bi_test_set)\n",
        "print(bi_accuracy)\n",
        "\n",
        "tri_accuracy = nltk.classify.accuracy(tri_classifier, tri_test_set)\n",
        "print(tri_accuracy)"
      ],
      "execution_count": 0,
      "outputs": [
        {
          "output_type": "stream",
          "text": [
            "0.4016477857878476\n",
            "0.43975283213182287\n"
          ],
          "name": "stdout"
        }
      ]
    },
    {
      "cell_type": "code",
      "metadata": {
        "colab_type": "code",
        "id": "4qJ-7alWa3F4",
        "outputId": "f3a747a6-6c11-4054-c8a3-3510bf1badd6",
        "colab": {
          "base_uri": "https://localhost:8080/",
          "height": 286
        }
      },
      "source": [
        "# Displays most informative features\n",
        "\n",
        "bi_classifier.show_most_informative_features(15)"
      ],
      "execution_count": 0,
      "outputs": [
        {
          "output_type": "stream",
          "text": [
            "Most Informative Features\n",
            "                  I pick = True            13-17 : 33-47  =      8.7 : 1.0\n",
            "               I graduat = True            13-17 : 23-27  =      8.0 : 1.0\n",
            "                den went = True            33-47 : 23-27  =      7.5 : 1.0\n",
            "             sunday morn = True            33-47 : 13-17  =      6.9 : 1.0\n",
            "             know better = True            33-47 : 13-17  =      6.9 : 1.0\n",
            "               well last = True            13-17 : 33-47  =      6.8 : 1.0\n",
            "              help think = True            33-47 : 13-17  =      6.6 : 1.0\n",
            "            realli anyth = True            33-47 : 13-17  =      6.5 : 1.0\n",
            "             peopl could = True            33-47 : 13-17  =      6.1 : 1.0\n",
            "          you understand = True            33-47 : 23-27  =      5.8 : 1.0\n",
            "               long sinc = True            33-47 : 23-27  =      5.8 : 1.0\n",
            "             senior year = True            33-47 : 23-27  =      5.8 : 1.0\n",
            "                   I bit = True            23-27 : 33-47  =      5.8 : 1.0\n",
            "                tri find = True            13-17 : 33-47  =      5.6 : 1.0\n",
            "                 I marri = True            33-47 : 13-17  =      5.4 : 1.0\n"
          ],
          "name": "stdout"
        }
      ]
    },
    {
      "cell_type": "code",
      "metadata": {
        "colab_type": "code",
        "id": "LpdKcNdua3F6",
        "outputId": "cbfe1200-c886-446d-8e6d-9dc849c9b2c0",
        "colab": {
          "base_uri": "https://localhost:8080/",
          "height": 286
        }
      },
      "source": [
        "# Displays most informative features\n",
        "\n",
        "tri_classifier.show_most_informative_features(15)"
      ],
      "execution_count": 0,
      "outputs": [
        {
          "output_type": "stream",
          "text": [
            "Most Informative Features\n",
            "             I play game = True            33-47 : 23-27  =     12.3 : 1.0\n",
            "            life I think = True            33-47 : 23-27  =      9.0 : 1.0\n",
            "             It much fun = True            33-47 : 23-27  =      9.0 : 1.0\n",
            "             I need talk = True            33-47 : 23-27  =      9.0 : 1.0\n",
            "           would go back = True            33-47 : 23-27  =      9.0 : 1.0\n",
            "              I get tire = True            33-47 : 23-27  =      7.4 : 1.0\n",
            "               how I get = True            33-47 : 23-27  =      7.4 : 1.0\n",
            "            I think help = True            33-47 : 23-27  =      7.4 : 1.0\n",
            "           I know realli = True            33-47 : 23-27  =      7.4 : 1.0\n",
            "                 I day I = True            33-47 : 23-27  =      7.4 : 1.0\n",
            "          someth I think = True            33-47 : 23-27  =      7.4 : 1.0\n",
            "         first I thought = True            33-47 : 23-27  =      7.4 : 1.0\n",
            "              go tri get = True            33-47 : 23-27  =      7.4 : 1.0\n",
            "           I post pictur = True            33-47 : 23-27  =      7.4 : 1.0\n",
            "          I hope everyon = True            13-17 : 23-27  =      6.8 : 1.0\n"
          ],
          "name": "stdout"
        }
      ]
    },
    {
      "cell_type": "markdown",
      "metadata": {
        "colab_type": "text",
        "id": "ArdKnImia3F7"
      },
      "source": [
        "#### Confusion Matrix"
      ]
    },
    {
      "cell_type": "code",
      "metadata": {
        "colab_type": "code",
        "id": "1k4o07Uka3F8",
        "outputId": "e02b594d-97ca-4dac-c1b9-840d34b0a729",
        "colab": {
          "base_uri": "https://localhost:8080/",
          "height": 296
        }
      },
      "source": [
        "# Confusion Matrix - Bigrams\n",
        "\n",
        "predicted = bi_classifier.classify_many(i[0] for i in bi_test_set)\n",
        "\n",
        "data = {'y_Actual':    [i[1] for i in bi_test_set],\n",
        "        'y_Predicted': predicted\n",
        "        }\n",
        "\n",
        "df = pd.DataFrame(data, columns=['y_Actual','y_Predicted'])\n",
        "confusion_matrix = pd.crosstab(df['y_Actual'], df['y_Predicted'], rownames=['Actual'], colnames=['Predicted'])\n",
        "\n",
        "sn.heatmap(confusion_matrix, annot=True, fmt='g')"
      ],
      "execution_count": 0,
      "outputs": [
        {
          "output_type": "execute_result",
          "data": {
            "text/plain": [
              "<matplotlib.axes._subplots.AxesSubplot at 0x7f433db52780>"
            ]
          },
          "metadata": {
            "tags": []
          },
          "execution_count": 53
        },
        {
          "output_type": "display_data",
          "data": {
            "image/png": "[encoded data removed]",
            "text/plain": [
              "<Figure size 432x288 with 2 Axes>"
            ]
          },
          "metadata": {
            "tags": []
          }
        }
      ]
    },
    {
      "cell_type": "code",
      "metadata": {
        "colab_type": "code",
        "id": "RHefImeea3F-",
        "outputId": "22b92612-d085-444b-ca71-fbbf7a83a392",
        "colab": {
          "base_uri": "https://localhost:8080/",
          "height": 296
        }
      },
      "source": [
        "# Confusion Matrix - Trigrams\n",
        "\n",
        "predicted = tri_classifier.classify_many(i[0] for i in tri_test_set)\n",
        "\n",
        "data = {'y_Actual':    [i[1] for i in tri_test_set],\n",
        "        'y_Predicted': predicted\n",
        "        }\n",
        "\n",
        "df = pd.DataFrame(data, columns=['y_Actual','y_Predicted'])\n",
        "confusion_matrix = pd.crosstab(df['y_Actual'], df['y_Predicted'], rownames=['Actual'], colnames=['Predicted'])\n",
        "\n",
        "sn.heatmap(confusion_matrix, annot=True, fmt='g')"
      ],
      "execution_count": 0,
      "outputs": [
        {
          "output_type": "execute_result",
          "data": {
            "text/plain": [
              "<matplotlib.axes._subplots.AxesSubplot at 0x7f42cbbc7fd0>"
            ]
          },
          "metadata": {
            "tags": []
          },
          "execution_count": 54
        },
        {
          "output_type": "display_data",
          "data": {
            "image/png": "[encoded data removed]",
            "text/plain": [
              "<Figure size 432x288 with 2 Axes>"
            ]
          },
          "metadata": {
            "tags": []
          }
        }
      ]
    },
    {
      "cell_type": "markdown",
      "metadata": {
        "id": "zFHRwiKJ0fU1",
        "colab_type": "text"
      },
      "source": [
        "# Visualizing data"
      ]
    },
    {
      "cell_type": "markdown",
      "metadata": {
        "id": "MTJCm0TH5wK7",
        "colab_type": "text"
      },
      "source": [
        "Visualizing gender data"
      ]
    },
    {
      "cell_type": "code",
      "metadata": {
        "id": "mtT3nrajvLLp",
        "colab_type": "code",
        "outputId": "1edfea77-581c-420e-d72b-78de02e2e485",
        "colab": {
          "base_uri": "https://localhost:8080/",
          "height": 434
        }
      },
      "source": [
        "data = collections.Counter(blogdict[\"gender\"])\n",
        "\n",
        "# Normalizing:\n",
        "\n",
        "total = 0\n",
        "for key in data:\n",
        "  total += data[key]\n",
        "for key in data:\n",
        "  data[key] = data[key]/total*100\n",
        "\n",
        "# Plotting\n",
        "\n",
        "names = list(data.keys())\n",
        "values = list(data.values())\n",
        "\n",
        "fig, axs = plt.subplots(1, 1, figsize=(9, 6), sharey=True)\n",
        "axs.bar(names, values, color=\"#00a0e5\", edgecolor=\"#006d9c\")\n",
        "fig.suptitle('Gender ratio')"
      ],
      "execution_count": 0,
      "outputs": [
        {
          "output_type": "execute_result",
          "data": {
            "text/plain": [
              "Text(0.5, 0.98, 'Gender ratio')"
            ]
          },
          "metadata": {
            "tags": []
          },
          "execution_count": 55
        },
        {
          "output_type": "display_data",
          "data": {
            "image/png": "[encoded data removed]",
            "text/plain": [
              "<Figure size 648x432 with 1 Axes>"
            ]
          },
          "metadata": {
            "tags": []
          }
        }
      ]
    },
    {
      "cell_type": "code",
      "metadata": {
        "id": "W8iCPTyYzKtG",
        "colab_type": "code",
        "outputId": "907d6852-4366-4e36-b96d-1df466f43fb1",
        "colab": {
          "base_uri": "https://localhost:8080/",
          "height": 34
        }
      },
      "source": [
        "print(\"Female / Male ratio in numbers:\", data)"
      ],
      "execution_count": 0,
      "outputs": [
        {
          "output_type": "stream",
          "text": [
            "Female / Male ratio in numbers: Counter({'male': 50.74626865671642, 'female': 49.25373134328358})\n"
          ],
          "name": "stdout"
        }
      ]
    },
    {
      "cell_type": "markdown",
      "metadata": {
        "id": "JXl3iix950A_",
        "colab_type": "text"
      },
      "source": [
        "Visualizing topic data"
      ]
    },
    {
      "cell_type": "code",
      "metadata": {
        "id": "5_hSbYNs3T-2",
        "colab_type": "code",
        "outputId": "0df4349e-e1b4-4aff-e407-10d128ea5556",
        "colab": {
          "base_uri": "https://localhost:8080/",
          "height": 434
        }
      },
      "source": [
        "data = collections.Counter(blogdict[\"topic\"])\n",
        "\n",
        "# Deleting topics with below X appearences:\n",
        "\n",
        "data[\"Not Student\"] = 0\n",
        "delete_these = []\n",
        "for key in data:\n",
        "  if key != \"Student\":\n",
        "    if key != \"Not Student\":\n",
        "     data[\"Not Student\"] += int(data[key])\n",
        "     delete_these.append(key)\n",
        "\n",
        "for i in delete_these:\n",
        "  del data[i]\n",
        "\n",
        "# Normalizing:\n",
        "\n",
        "total = 0\n",
        "for key in data:\n",
        "  total += data[key]\n",
        "for key in data:\n",
        "  data[key] = data[key]/total*100\n",
        "\n",
        "# Plotting\n",
        "\n",
        "names = list(data.keys())\n",
        "values = list(data.values())\n",
        "\n",
        "fig, axs = plt.subplots(1, 1, figsize=(9, 6), sharey=True)\n",
        "axs.bar(names, values, color=\"#78bd00\", edgecolor=\"#507d01\")\n",
        "fig.suptitle('Student / Not Student ratio')"
      ],
      "execution_count": 0,
      "outputs": [
        {
          "output_type": "execute_result",
          "data": {
            "text/plain": [
              "Text(0.5, 0.98, 'Student / Not Student ratio')"
            ]
          },
          "metadata": {
            "tags": []
          },
          "execution_count": 57
        },
        {
          "output_type": "display_data",
          "data": {
            "image/png": "[encoded data removed]",
            "text/plain": [
              "<Figure size 648x432 with 1 Axes>"
            ]
          },
          "metadata": {
            "tags": []
          }
        }
      ]
    },
    {
      "cell_type": "code",
      "metadata": {
        "id": "IQQLLa3b53GA",
        "colab_type": "code",
        "outputId": "021621d7-7adb-4250-a5ed-f7f8902670e6",
        "colab": {
          "base_uri": "https://localhost:8080/",
          "height": 434
        }
      },
      "source": [
        "data = collections.Counter(blogdict[\"age_group\"])\n",
        "\n",
        "# Normalizing:\n",
        "\n",
        "total = 0\n",
        "for key in data:\n",
        "  total += data[key]\n",
        "for key in data:\n",
        "  data[key] = data[key]/total*100\n",
        "\n",
        "# Plotting\n",
        "\n",
        "names = list(data.keys())\n",
        "values = list(data.values())\n",
        "\n",
        "fig, axs = plt.subplots(1, 1, figsize=(9, 6), sharey=True)\n",
        "axs.bar(names, values, color=\"#00a0e5\", edgecolor=\"#006d9c\")\n",
        "fig.suptitle('Gender ratio')"
      ],
      "execution_count": 0,
      "outputs": [
        {
          "output_type": "execute_result",
          "data": {
            "text/plain": [
              "Text(0.5, 0.98, 'Gender ratio')"
            ]
          },
          "metadata": {
            "tags": []
          },
          "execution_count": 58
        },
        {
          "output_type": "display_data",
          "data": {
            "image/png": "[encoded data removed]",
            "text/plain": [
              "<Figure size 648x432 with 1 Axes>"
            ]
          },
          "metadata": {
            "tags": []
          }
        }
      ]
    },
    {
      "cell_type": "code",
      "metadata": {
        "id": "d01h0EIodV0T",
        "colab_type": "code",
        "colab": {}
      },
      "source": [
        ""
      ],
      "execution_count": 0,
      "outputs": []
    }
  ]
}